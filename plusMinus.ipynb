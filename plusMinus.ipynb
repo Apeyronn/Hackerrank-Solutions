{
 "cells": [
  {
   "cell_type": "markdown",
   "id": "3bde08ed",
   "metadata": {},
   "source": [
    " Girilen negatif, çift yada 0 ın listenin çindeki yüzdesini bulan kod"
   ]
  },
  {
   "cell_type": "code",
   "execution_count": 1,
   "id": "59157c1d",
   "metadata": {},
   "outputs": [
    {
     "name": "stdout",
     "output_type": "stream",
     "text": [
      "0.5\n",
      "0.3333333333333333\n",
      "0.16666666666666666\n"
     ]
    }
   ],
   "source": [
    "def plusMinus(arr):\n",
    "    # Write your code here\n",
    "    x, y, z = 0, 0, 0\n",
    "\n",
    "    for i in range(0, len(arr)):\n",
    "        if arr[i] > 0:\n",
    "            x = x + 1\n",
    "        elif arr[i] < 0:\n",
    "            y = y + 1\n",
    "        else:\n",
    "            z = z + 1\n",
    "\n",
    "    print(x / len(arr))\n",
    "    print(y / len(arr))\n",
    "    print(z / len(arr))\n",
    "\n",
    "plusMinus([4,5,6,0,-2,-3])"
   ]
  },
  {
   "cell_type": "code",
   "execution_count": null,
   "id": "9219683a",
   "metadata": {},
   "outputs": [],
   "source": []
  }
 ],
 "metadata": {
  "kernelspec": {
   "display_name": "Python 3 (ipykernel)",
   "language": "python",
   "name": "python3"
  },
  "language_info": {
   "codemirror_mode": {
    "name": "ipython",
    "version": 3
   },
   "file_extension": ".py",
   "mimetype": "text/x-python",
   "name": "python",
   "nbconvert_exporter": "python",
   "pygments_lexer": "ipython3",
   "version": "3.9.13"
  }
 },
 "nbformat": 4,
 "nbformat_minor": 5
}
