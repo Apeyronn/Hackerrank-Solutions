{
 "cells": [
  {
   "attachments": {},
   "cell_type": "markdown",
   "id": "832e5464",
   "metadata": {},
   "source": [
    "Verilen bir metin içindeki karakterlerin tekrar sayılarını hesaplayan bir Python fonksiyonu yazınız. Bu fonksiyon, metindeki rakam ve harf karakterlerin tekrar sayılarını hesaplayarak, metindeki bazı karakterlerin eksik olup olmadığını tespit etmelidir. Eksik karakterler, bir sonuç stringi içinde birleştirilerek geri döndürülmelidir.\n",
    "\n",
    "Örnek olarak, 'abcdefghijtuvwxyz0123789' metnindeki eksik karakterleri hesaplayan bir fonksiyon şu şekilde çalışabilir:\n",
    "\n",
    "missingCharacters('abcdefghijtuvwxyz0123789')\n",
    "\n",
    "Çıktı olarak, bu fonksiyon, metindeki eksik karakterleri içeren bir string döndürmelidir.\""
   ]
  },
  {
   "cell_type": "code",
   "execution_count": 27,
   "id": "99ad6488",
   "metadata": {},
   "outputs": [
    {
     "name": "stdout",
     "output_type": "stream",
     "text": [
      "456klmnopqrs\n"
     ]
    }
   ],
   "source": [
    "def missingCharacters(s):\n",
    "    l=[0]*123\n",
    "    result=\"\"\n",
    "    for i in range(len(s)):\n",
    "        x=ord(s[i])\n",
    "        l[x]+=1\n",
    "    for i in range(48,58):\n",
    "        if(l[i]==0):\n",
    "            result+=chr(i)\n",
    "    for i in range(97,123):\n",
    "        if(l[i]==0):\n",
    "            result+=chr(i)\n",
    "    return result\n",
    "\n",
    "s = 'abcdefghijtuvwxyz0123789'\n",
    "print(missingCharacters(s))"
   ]
  }
 ],
 "metadata": {
  "kernelspec": {
   "display_name": "Python 3 (ipykernel)",
   "language": "python",
   "name": "python3"
  },
  "language_info": {
   "codemirror_mode": {
    "name": "ipython",
    "version": 3
   },
   "file_extension": ".py",
   "mimetype": "text/x-python",
   "name": "python",
   "nbconvert_exporter": "python",
   "pygments_lexer": "ipython3",
   "version": "3.9.13"
  }
 },
 "nbformat": 4,
 "nbformat_minor": 5
}
