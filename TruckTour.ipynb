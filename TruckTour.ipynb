{
 "cells": [
  {
   "cell_type": "markdown",
   "id": "bcb617c9",
   "metadata": {},
   "source": [
    "Tabanı N olan bir çember düşünün. Bu çember üzerinde N tane benzin istasyonu bulunmaktadır. Benzin istasyonları 0'dan (N - 1) (ikisi de dahil) sayılanarak numaralandırılmıştır. Her bir benzin istasyonu için iki bilgi verilmiştir: (1) o benzin istasyonundan alınacak benzin miktarı ve (2) o benzin istasyonundan bir sonraki benzin istasyonuna olan mesafe. Başlangıçta, sonsuz kapasiteli bir yakıt deposu olan bir kamyonumuz var ve depoda benzin yok. Kamyon her benzin istasyonunda duracak ve her duruşta depodaki tüm benzin tüketilecektir. Kamyonun kilometrede bir litre benzin tüketeceğini varsayarsak, çemberin herhangi bir benzin istasyonundan turu başlatabiliriz. Kamyonun turu tamamlamak için hangi benzin istasyonundan başlaması gerektiğini hesaplayın.\n",
    "\n",
    "Örneğin, 3 benzin istasyonu olsun ve verilen istasyonlarda şu kadar benzin ve mesafe olsun:\n",
    "\n",
    "Benzin İstasyonu, Miktarı ,Mesafe\n",
    "\n",
    "0                 15        10\n",
    "\n",
    "1                 20        20\n",
    "\n",
    "2                 10         5\n",
    "\n",
    "Bu durumda, kamyon turuna ikinci benzin istasyonundan başlamalıdır."
   ]
  },
  {
   "cell_type": "code",
   "execution_count": null,
   "id": "1c377bad",
   "metadata": {},
   "outputs": [],
   "source": [
    "def truckTour(petrolpumps):\n",
    "    n = len(petrolpumps)\n",
    "    start = 0\n",
    "    petrol_left = 0\n",
    "\n",
    "    for i in range(n):\n",
    "        petrol_left += petrolpumps[i][0] - petrolpumps[i][1]\n",
    "\n",
    "        if petrol_left < 0:\n",
    "            start = i + 1\n",
    "            petrol_left = 0\n",
    "\n",
    "    return start\n",
    "petrolpumps = [(4, 6), (6, 5), (7, 3), (4, 5)]\n",
    "print(truckTour(petrolpumps)) # Output: 1"
   ]
  }
 ],
 "metadata": {
  "kernelspec": {
   "display_name": "Python 3 (ipykernel)",
   "language": "python",
   "name": "python3"
  },
  "language_info": {
   "codemirror_mode": {
    "name": "ipython",
    "version": 3
   },
   "file_extension": ".py",
   "mimetype": "text/x-python",
   "name": "python",
   "nbconvert_exporter": "python",
   "pygments_lexer": "ipython3",
   "version": "3.9.13"
  }
 },
 "nbformat": 4,
 "nbformat_minor": 5
}
