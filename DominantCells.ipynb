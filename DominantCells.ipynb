{
 "cells": [
  {
   "attachments": {},
   "cell_type": "markdown",
   "id": "92b59dc5",
   "metadata": {},
   "source": [
    "Verilen bir 2D matris (grid) içinde, herhangi bir hücrenin etrafında en büyük sayı olma özelliğine sahip olduğu hücrelerin sayısını bulan bir fonksiyon yazınız. Bir hücrenin etrafındaki hücreler (komşuları) yalnızca doğrudan sağında, solunda, üstünde ve altında olan hücrelerdir (köşegenler dahil değil).\n",
    "\n",
    "Fonksiyon İmzası: def numCells(grid: List[List[int]]) -> int\n",
    "\n",
    "Örnekler: numCells([[8, 5, 3], [4, 5, 6], [7, 8, 9]]) => 2 numCells([[1, 2, 3], [4, 5, 6], [7, 8, 9]]) => 1 numCells([[1, 4, 4], [4, 5, 6], [7, 8, 9]]) => 3 Açıklamalar:\n",
    "\n",
    "İlk örnekte, sadece 8 ve 9'un etrafındaki hücrelerden daha büyük olduğu için 2 hücre en büyük sayı olma özelliğine sahiptir. İkinci örnekte, sadece 9'un etrafındaki hücrelerden daha büyük olduğu için sadece bir hücre en büyük sayı olma özelliğine sahiptir. Üçüncü örnekte, 5, 6 ve 9'un etrafındaki hücrelerden daha büyük olduğu için bu üç hücre en büyük sayı olma özelliğine sahiptir."
   ]
  },
  {
   "cell_type": "code",
   "execution_count": 28,
   "id": "99ad6488",
   "metadata": {},
   "outputs": [
    {
     "name": "stdout",
     "output_type": "stream",
     "text": [
      "2\n"
     ]
    }
   ],
   "source": [
    "def numCells(grid):\n",
    "    # Write your code here\n",
    "    res = 0\n",
    "    for i in range(len(grid)):\n",
    "        for k in range (len(grid[0])):\n",
    "            val = grid[i][k]\n",
    "            flag = 1\n",
    "            for ii in range (max(0,i-1),min(len(grid),i+2)):\n",
    "                for kk in range(max(0,k-1),min(len(grid[0]),k+2)):\n",
    "                    if (ii,kk)!=(i,k) and val<= grid[ii][kk] :\n",
    "                         flag=0\n",
    "                         break \n",
    "                if flag == 0:\n",
    "                     break\n",
    "            else:\n",
    "                res+=1\n",
    "    return res\n",
    "res = [[8, 5, 3], [4, 5, 6], [7, 8, 9]]\n",
    "\n",
    "print(numCells(res))"
   ]
  }
 ],
 "metadata": {
  "kernelspec": {
   "display_name": "Python 3 (ipykernel)",
   "language": "python",
   "name": "python3"
  },
  "language_info": {
   "codemirror_mode": {
    "name": "ipython",
    "version": 3
   },
   "file_extension": ".py",
   "mimetype": "text/x-python",
   "name": "python",
   "nbconvert_exporter": "python",
   "pygments_lexer": "ipython3",
   "version": "3.9.13"
  }
 },
 "nbformat": 4,
 "nbformat_minor": 5
}
