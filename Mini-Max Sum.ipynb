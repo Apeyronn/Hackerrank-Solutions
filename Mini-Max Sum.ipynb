{
 "cells": [
  {
   "cell_type": "markdown",
   "id": "3bf753ff",
   "metadata": {},
   "source": [
    "Beş pozitif tamsayı verildiğinde, tam olarak beş sayıdan dört tanesini toplayarak hesaplanabilecek minimum ve maksimum değerleri bulun. Ardından, minimum ve maksimum değerleri iki boşluklu bir satırda yazdırın."
   ]
  },
  {
   "cell_type": "code",
   "execution_count": 4,
   "id": "7b9a684e",
   "metadata": {},
   "outputs": [
    {
     "name": "stdout",
     "output_type": "stream",
     "text": [
      "20 28\n"
     ]
    }
   ],
   "source": [
    "def miniMaxSum(arr):\n",
    "    # Write your code here\n",
    "    sum =0\n",
    "    for i in range(len(arr)):\n",
    "        sum+= arr[i]\n",
    "    print(sum-max(arr), sum-min(arr))  \n",
    "miniMaxSum([1,8,9,4,3,4])"
   ]
  }
 ],
 "metadata": {
  "kernelspec": {
   "display_name": "Python 3 (ipykernel)",
   "language": "python",
   "name": "python3"
  },
  "language_info": {
   "codemirror_mode": {
    "name": "ipython",
    "version": 3
   },
   "file_extension": ".py",
   "mimetype": "text/x-python",
   "name": "python",
   "nbconvert_exporter": "python",
   "pygments_lexer": "ipython3",
   "version": "3.9.13"
  }
 },
 "nbformat": 4,
 "nbformat_minor": 5
}
