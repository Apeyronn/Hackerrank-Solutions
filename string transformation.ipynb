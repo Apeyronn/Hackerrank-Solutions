{
 "cells": [
  {
   "attachments": {},
   "cell_type": "markdown",
   "id": "7a5511ae",
   "metadata": {},
   "source": [
    "**Dizenin ilk harfi değiştirilmeden kalır • Her bir sonraki harf için, x, bunu önceleyen bir harf, y, düşünün: • Eğer y x'i İngilizce alfabesinde önceleyorsa, x'i büyük harfe dönüştürün. o Eğer x y'yi İngilizce alfabesinde önceleyorsa, x'i küçük harfe dönüştürün. X ve y eşitse, harf değişmeden kalır.**\n",
    "\n",
    "Örnek\n",
    "\n",
    "sentence = \"cOOL dog\""
   ]
  },
  {
   "cell_type": "code",
   "execution_count": 26,
   "id": "99ad6488",
   "metadata": {},
   "outputs": [
    {
     "name": "stdout",
     "output_type": "stream",
     "text": [
      "BLUe MOon\n"
     ]
    }
   ],
   "source": [
    "def transformSentence(sentence):\n",
    "    l=sentence.split()\n",
    "    \n",
    "    li=[]\n",
    "    st=\"\"\n",
    "    for i in l:\n",
    "        st+=i[0]\n",
    "        for j in range(0,len(i)-1):\n",
    "            if(i[j].lower()<i[j+1].lower()):\n",
    "                st+=(i[j+1].upper())\n",
    "            elif(i[j].lower()>i[j+1].lower()):\n",
    "                st+=(i[j+1].lower())\n",
    "            else:\n",
    "                st+=i[j+1]\n",
    "        li.append(st)\n",
    "        st=\"\"\n",
    "    result=\"\"\n",
    "    \n",
    "    for i in li:\n",
    "        result=result+\" \"+i\n",
    "    return (result.strip())\n",
    "sentence= \"Blue Moon\"\n",
    "print(transformSentence(sentence))"
   ]
  },
  {
   "cell_type": "code",
   "execution_count": null,
   "id": "ea09105f",
   "metadata": {},
   "outputs": [],
   "source": []
  }
 ],
 "metadata": {
  "kernelspec": {
   "display_name": "Python 3 (ipykernel)",
   "language": "python",
   "name": "python3"
  },
  "language_info": {
   "codemirror_mode": {
    "name": "ipython",
    "version": 3
   },
   "file_extension": ".py",
   "mimetype": "text/x-python",
   "name": "python",
   "nbconvert_exporter": "python",
   "pygments_lexer": "ipython3",
   "version": "3.9.13"
  }
 },
 "nbformat": 4,
 "nbformat_minor": 5
}
